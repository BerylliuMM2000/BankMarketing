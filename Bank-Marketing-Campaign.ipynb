{
 "cells": [
  {
   "cell_type": "code",
   "execution_count": 1,
   "id": "96982264",
   "metadata": {},
   "outputs": [],
   "source": [
    "from numpy import *\n",
    "from pandas import *\n",
    "from matplotlib.pyplot import *\n",
    "from seaborn import *\n",
    "from os import *\n",
    "from sklearn import *"
   ]
  },
  {
   "cell_type": "code",
   "execution_count": 2,
   "id": "f2fcb226",
   "metadata": {},
   "outputs": [
    {
     "name": "stdout",
     "output_type": "stream",
     "text": [
      "(4521, 17)\n",
      "461474\n"
     ]
    },
    {
     "data": {
      "text/html": [
       "<div>\n",
       "<style scoped>\n",
       "    .dataframe tbody tr th:only-of-type {\n",
       "        vertical-align: middle;\n",
       "    }\n",
       "\n",
       "    .dataframe tbody tr th {\n",
       "        vertical-align: top;\n",
       "    }\n",
       "\n",
       "    .dataframe thead th {\n",
       "        text-align: right;\n",
       "    }\n",
       "</style>\n",
       "<table border=\"1\" class=\"dataframe\">\n",
       "  <thead>\n",
       "    <tr style=\"text-align: right;\">\n",
       "      <th></th>\n",
       "      <th>age</th>\n",
       "      <th>job</th>\n",
       "      <th>marital</th>\n",
       "      <th>education</th>\n",
       "      <th>default</th>\n",
       "      <th>balance</th>\n",
       "      <th>housing</th>\n",
       "      <th>loan</th>\n",
       "      <th>contact</th>\n",
       "      <th>day</th>\n",
       "      <th>month</th>\n",
       "      <th>duration</th>\n",
       "      <th>campaign</th>\n",
       "      <th>pdays</th>\n",
       "      <th>previous</th>\n",
       "      <th>poutcome</th>\n",
       "      <th>y</th>\n",
       "    </tr>\n",
       "  </thead>\n",
       "  <tbody>\n",
       "    <tr>\n",
       "      <th>0</th>\n",
       "      <td>30</td>\n",
       "      <td>unemployed</td>\n",
       "      <td>married</td>\n",
       "      <td>primary</td>\n",
       "      <td>no</td>\n",
       "      <td>1787</td>\n",
       "      <td>no</td>\n",
       "      <td>no</td>\n",
       "      <td>cellular</td>\n",
       "      <td>19</td>\n",
       "      <td>oct</td>\n",
       "      <td>79</td>\n",
       "      <td>1</td>\n",
       "      <td>-1</td>\n",
       "      <td>0</td>\n",
       "      <td>unknown</td>\n",
       "      <td>no</td>\n",
       "    </tr>\n",
       "    <tr>\n",
       "      <th>1</th>\n",
       "      <td>33</td>\n",
       "      <td>services</td>\n",
       "      <td>married</td>\n",
       "      <td>secondary</td>\n",
       "      <td>no</td>\n",
       "      <td>4789</td>\n",
       "      <td>yes</td>\n",
       "      <td>yes</td>\n",
       "      <td>cellular</td>\n",
       "      <td>11</td>\n",
       "      <td>may</td>\n",
       "      <td>220</td>\n",
       "      <td>1</td>\n",
       "      <td>339</td>\n",
       "      <td>4</td>\n",
       "      <td>failure</td>\n",
       "      <td>no</td>\n",
       "    </tr>\n",
       "    <tr>\n",
       "      <th>2</th>\n",
       "      <td>35</td>\n",
       "      <td>management</td>\n",
       "      <td>single</td>\n",
       "      <td>tertiary</td>\n",
       "      <td>no</td>\n",
       "      <td>1350</td>\n",
       "      <td>yes</td>\n",
       "      <td>no</td>\n",
       "      <td>cellular</td>\n",
       "      <td>16</td>\n",
       "      <td>apr</td>\n",
       "      <td>185</td>\n",
       "      <td>1</td>\n",
       "      <td>330</td>\n",
       "      <td>1</td>\n",
       "      <td>failure</td>\n",
       "      <td>no</td>\n",
       "    </tr>\n",
       "    <tr>\n",
       "      <th>3</th>\n",
       "      <td>30</td>\n",
       "      <td>management</td>\n",
       "      <td>married</td>\n",
       "      <td>tertiary</td>\n",
       "      <td>no</td>\n",
       "      <td>1476</td>\n",
       "      <td>yes</td>\n",
       "      <td>yes</td>\n",
       "      <td>unknown</td>\n",
       "      <td>3</td>\n",
       "      <td>jun</td>\n",
       "      <td>199</td>\n",
       "      <td>4</td>\n",
       "      <td>-1</td>\n",
       "      <td>0</td>\n",
       "      <td>unknown</td>\n",
       "      <td>no</td>\n",
       "    </tr>\n",
       "    <tr>\n",
       "      <th>4</th>\n",
       "      <td>59</td>\n",
       "      <td>blue-collar</td>\n",
       "      <td>married</td>\n",
       "      <td>secondary</td>\n",
       "      <td>no</td>\n",
       "      <td>0</td>\n",
       "      <td>yes</td>\n",
       "      <td>no</td>\n",
       "      <td>unknown</td>\n",
       "      <td>5</td>\n",
       "      <td>may</td>\n",
       "      <td>226</td>\n",
       "      <td>1</td>\n",
       "      <td>-1</td>\n",
       "      <td>0</td>\n",
       "      <td>unknown</td>\n",
       "      <td>no</td>\n",
       "    </tr>\n",
       "  </tbody>\n",
       "</table>\n",
       "</div>"
      ],
      "text/plain": [
       "   age          job  marital  education default  balance housing loan  \\\n",
       "0   30   unemployed  married    primary      no     1787      no   no   \n",
       "1   33     services  married  secondary      no     4789     yes  yes   \n",
       "2   35   management   single   tertiary      no     1350     yes   no   \n",
       "3   30   management  married   tertiary      no     1476     yes  yes   \n",
       "4   59  blue-collar  married  secondary      no        0     yes   no   \n",
       "\n",
       "    contact  day month  duration  campaign  pdays  previous poutcome   y  \n",
       "0  cellular   19   oct        79         1     -1         0  unknown  no  \n",
       "1  cellular   11   may       220         1    339         4  failure  no  \n",
       "2  cellular   16   apr       185         1    330         1  failure  no  \n",
       "3   unknown    3   jun       199         4     -1         0  unknown  no  \n",
       "4   unknown    5   may       226         1     -1         0  unknown  no  "
      ]
     },
     "execution_count": 2,
     "metadata": {},
     "output_type": "execute_result"
    }
   ],
   "source": [
    "bank = read_csv(\"bank.csv\", delimiter = \";\")\n",
    "print(bank.shape)\n",
    "print(path.getsize(\"bank.csv\"))\n",
    "bank.head()"
   ]
  },
  {
   "cell_type": "code",
   "execution_count": 3,
   "id": "e8440663",
   "metadata": {},
   "outputs": [
    {
     "name": "stdout",
     "output_type": "stream",
     "text": [
      "(45211, 17)\n",
      "4610348\n"
     ]
    },
    {
     "data": {
      "text/html": [
       "<div>\n",
       "<style scoped>\n",
       "    .dataframe tbody tr th:only-of-type {\n",
       "        vertical-align: middle;\n",
       "    }\n",
       "\n",
       "    .dataframe tbody tr th {\n",
       "        vertical-align: top;\n",
       "    }\n",
       "\n",
       "    .dataframe thead th {\n",
       "        text-align: right;\n",
       "    }\n",
       "</style>\n",
       "<table border=\"1\" class=\"dataframe\">\n",
       "  <thead>\n",
       "    <tr style=\"text-align: right;\">\n",
       "      <th></th>\n",
       "      <th>age</th>\n",
       "      <th>job</th>\n",
       "      <th>marital</th>\n",
       "      <th>education</th>\n",
       "      <th>default</th>\n",
       "      <th>balance</th>\n",
       "      <th>housing</th>\n",
       "      <th>loan</th>\n",
       "      <th>contact</th>\n",
       "      <th>day</th>\n",
       "      <th>month</th>\n",
       "      <th>duration</th>\n",
       "      <th>campaign</th>\n",
       "      <th>pdays</th>\n",
       "      <th>previous</th>\n",
       "      <th>poutcome</th>\n",
       "      <th>y</th>\n",
       "    </tr>\n",
       "  </thead>\n",
       "  <tbody>\n",
       "    <tr>\n",
       "      <th>0</th>\n",
       "      <td>58</td>\n",
       "      <td>management</td>\n",
       "      <td>married</td>\n",
       "      <td>tertiary</td>\n",
       "      <td>no</td>\n",
       "      <td>2143</td>\n",
       "      <td>yes</td>\n",
       "      <td>no</td>\n",
       "      <td>unknown</td>\n",
       "      <td>5</td>\n",
       "      <td>may</td>\n",
       "      <td>261</td>\n",
       "      <td>1</td>\n",
       "      <td>-1</td>\n",
       "      <td>0</td>\n",
       "      <td>unknown</td>\n",
       "      <td>no</td>\n",
       "    </tr>\n",
       "    <tr>\n",
       "      <th>1</th>\n",
       "      <td>44</td>\n",
       "      <td>technician</td>\n",
       "      <td>single</td>\n",
       "      <td>secondary</td>\n",
       "      <td>no</td>\n",
       "      <td>29</td>\n",
       "      <td>yes</td>\n",
       "      <td>no</td>\n",
       "      <td>unknown</td>\n",
       "      <td>5</td>\n",
       "      <td>may</td>\n",
       "      <td>151</td>\n",
       "      <td>1</td>\n",
       "      <td>-1</td>\n",
       "      <td>0</td>\n",
       "      <td>unknown</td>\n",
       "      <td>no</td>\n",
       "    </tr>\n",
       "    <tr>\n",
       "      <th>2</th>\n",
       "      <td>33</td>\n",
       "      <td>entrepreneur</td>\n",
       "      <td>married</td>\n",
       "      <td>secondary</td>\n",
       "      <td>no</td>\n",
       "      <td>2</td>\n",
       "      <td>yes</td>\n",
       "      <td>yes</td>\n",
       "      <td>unknown</td>\n",
       "      <td>5</td>\n",
       "      <td>may</td>\n",
       "      <td>76</td>\n",
       "      <td>1</td>\n",
       "      <td>-1</td>\n",
       "      <td>0</td>\n",
       "      <td>unknown</td>\n",
       "      <td>no</td>\n",
       "    </tr>\n",
       "    <tr>\n",
       "      <th>3</th>\n",
       "      <td>47</td>\n",
       "      <td>blue-collar</td>\n",
       "      <td>married</td>\n",
       "      <td>unknown</td>\n",
       "      <td>no</td>\n",
       "      <td>1506</td>\n",
       "      <td>yes</td>\n",
       "      <td>no</td>\n",
       "      <td>unknown</td>\n",
       "      <td>5</td>\n",
       "      <td>may</td>\n",
       "      <td>92</td>\n",
       "      <td>1</td>\n",
       "      <td>-1</td>\n",
       "      <td>0</td>\n",
       "      <td>unknown</td>\n",
       "      <td>no</td>\n",
       "    </tr>\n",
       "    <tr>\n",
       "      <th>4</th>\n",
       "      <td>33</td>\n",
       "      <td>unknown</td>\n",
       "      <td>single</td>\n",
       "      <td>unknown</td>\n",
       "      <td>no</td>\n",
       "      <td>1</td>\n",
       "      <td>no</td>\n",
       "      <td>no</td>\n",
       "      <td>unknown</td>\n",
       "      <td>5</td>\n",
       "      <td>may</td>\n",
       "      <td>198</td>\n",
       "      <td>1</td>\n",
       "      <td>-1</td>\n",
       "      <td>0</td>\n",
       "      <td>unknown</td>\n",
       "      <td>no</td>\n",
       "    </tr>\n",
       "  </tbody>\n",
       "</table>\n",
       "</div>"
      ],
      "text/plain": [
       "   age           job  marital  education default  balance housing loan  \\\n",
       "0   58    management  married   tertiary      no     2143     yes   no   \n",
       "1   44    technician   single  secondary      no       29     yes   no   \n",
       "2   33  entrepreneur  married  secondary      no        2     yes  yes   \n",
       "3   47   blue-collar  married    unknown      no     1506     yes   no   \n",
       "4   33       unknown   single    unknown      no        1      no   no   \n",
       "\n",
       "   contact  day month  duration  campaign  pdays  previous poutcome   y  \n",
       "0  unknown    5   may       261         1     -1         0  unknown  no  \n",
       "1  unknown    5   may       151         1     -1         0  unknown  no  \n",
       "2  unknown    5   may        76         1     -1         0  unknown  no  \n",
       "3  unknown    5   may        92         1     -1         0  unknown  no  \n",
       "4  unknown    5   may       198         1     -1         0  unknown  no  "
      ]
     },
     "execution_count": 3,
     "metadata": {},
     "output_type": "execute_result"
    }
   ],
   "source": [
    "bank_full = read_csv(\"bank-full.csv\", delimiter = \";\")\n",
    "print(bank_full.shape)\n",
    "print(path.getsize(\"bank-full.csv\"))\n",
    "bank_full.head()"
   ]
  },
  {
   "cell_type": "markdown",
   "id": "3720e49e",
   "metadata": {},
   "source": [
    "------\n",
    "\n",
    "## Data Understanding\n",
    "\n",
    "(Extracted from the bank-names.txt, section 7.)\n",
    "\n",
    "Input variables:\n",
    "   - bank client data:\n",
    "       1. age (numeric)\n",
    "       2. job : type of job (categorical: \"admin.\",\"unknown\",\"unemployed\",\"management\",\"housemaid\",\"entrepreneur\",\"student\",\"blue-collar\",\"self-employed\",\"retired\",\"technician\",\"services\") \n",
    "       3. marital : marital status (categorical: \"married\",\"divorced\",\"single\"; note: \"divorced\" means divorced or widowed)\n",
    "       4. education (categorical: \"unknown\",\"secondary\",\"primary\",\"tertiary\")\n",
    "       5. default: has credit in default? (binary: \"yes\",\"no\")\n",
    "       6. balance: average yearly balance, in euros (numeric) \n",
    "       7. housing: has housing loan? (binary: \"yes\",\"no\")\n",
    "       8. loan: has personal loan? (binary: \"yes\",\"no\")\n",
    "   - related with the last contact of the current campaign:\n",
    "       9. contact: contact communication type (categorical: \"unknown\",\"telephone\",\"cellular\") \n",
    "       10. day: last contact day of the month (numeric)\n",
    "       11. month: last contact month of year (categorical: \"jan\", \"feb\", \"mar\", ..., \"nov\", \"dec\")\n",
    "       12. duration: last contact duration, in seconds (numeric)\n",
    "   - other attributes:\n",
    "       13. campaign: number of contacts performed during this campaign and for this client (numeric, includes last contact)\n",
    "       14. pdays: number of days that passed by after the client was last contacted from a previous campaign (numeric, -1 means client was not previously contacted)\n",
    "       15. previous: number of contacts performed before this campaign and for this client (numeric)\n",
    "       16. poutcome: outcome of the previous marketing campaign (categorical: \"unknown\",\"other\",\"failure\",\"success\")\n",
    "   - Output variable (desired target):\n",
    "       17. y - has the client subscribed a term deposit? (binary: \"yes\",\"no\")"
   ]
  },
  {
   "cell_type": "markdown",
   "id": "f5b53fd1",
   "metadata": {},
   "source": [
    "\n",
    "## Data Cleaning and Processing\n",
    "\n",
    "1. Checking null and N/A values"
   ]
  },
  {
   "cell_type": "code",
   "execution_count": 4,
   "id": "67ffc98a",
   "metadata": {},
   "outputs": [
    {
     "name": "stdout",
     "output_type": "stream",
     "text": [
      "age          False\n",
      "job          False\n",
      "marital      False\n",
      "education    False\n",
      "default      False\n",
      "balance      False\n",
      "housing      False\n",
      "loan         False\n",
      "contact      False\n",
      "day          False\n",
      "month        False\n",
      "duration     False\n",
      "campaign     False\n",
      "pdays        False\n",
      "previous     False\n",
      "poutcome     False\n",
      "y            False\n",
      "dtype: bool\n",
      "age          False\n",
      "job          False\n",
      "marital      False\n",
      "education    False\n",
      "default      False\n",
      "balance      False\n",
      "housing      False\n",
      "loan         False\n",
      "contact      False\n",
      "day          False\n",
      "month        False\n",
      "duration     False\n",
      "campaign     False\n",
      "pdays        False\n",
      "previous     False\n",
      "poutcome     False\n",
      "y            False\n",
      "dtype: bool\n"
     ]
    }
   ],
   "source": [
    "print(bank_full.isnull().any())\n",
    "print(bank_full.isna().any())"
   ]
  },
  {
   "cell_type": "markdown",
   "id": "383d17e6",
   "metadata": {},
   "source": [
    "No null or N/A values are presented"
   ]
  },
  {
   "cell_type": "markdown",
   "id": "4b1fe8c3",
   "metadata": {},
   "source": [
    "2. Checking outliers\n",
    "    - First of all, select all columns with numeric values only (Focus on the smaller `bank` data first)"
   ]
  },
  {
   "cell_type": "code",
   "execution_count": 5,
   "id": "d480f464",
   "metadata": {
    "scrolled": true
   },
   "outputs": [
    {
     "data": {
      "text/plain": [
       "age         0.699501\n",
       "balance     6.596431\n",
       "day         0.094627\n",
       "duration    2.772420\n",
       "campaign    4.743914\n",
       "pdays       2.717071\n",
       "previous    5.875259\n",
       "dtype: float64"
      ]
     },
     "execution_count": 5,
     "metadata": {},
     "output_type": "execute_result"
    }
   ],
   "source": [
    "bank.skew(numeric_only=True)"
   ]
  },
  {
   "cell_type": "code",
   "execution_count": 6,
   "id": "90fb393e",
   "metadata": {},
   "outputs": [
    {
     "data": {
      "text/plain": [
       "<AxesSubplot:xlabel='previous', ylabel='Count'>"
      ]
     },
     "execution_count": 6,
     "metadata": {},
     "output_type": "execute_result"
    },
    {
     "data": {
      "image/png": "[encoded data removed]",
      "text/plain": [
       "<Figure size 1080x720 with 6 Axes>"
      ]
     },
     "metadata": {
      "needs_background": "light"
     },
     "output_type": "display_data"
    }
   ],
   "source": [
    "fig, axs = subplots(2,3, figsize=(15,10))\n",
    "histplot(data = bank, x = \"balance\", kde = True, ax=axs[0,0])\n",
    "histplot(data = bank, x = \"duration\", kde = True, ax=axs[0,1])\n",
    "histplot(data = bank, x = \"campaign\", kde = True, ax=axs[0,2])\n",
    "histplot(data = bank, x = \"pdays\", kde = True, ax=axs[1,0])\n",
    "histplot(data = bank, x = \"previous\", kde = True, ax=axs[1,1])"
   ]
  },
  {
   "cell_type": "markdown",
   "id": "9bafbd6e",
   "metadata": {},
   "source": [
    "The columns `balance`, `duration`, `campaign`, `pdays`, and `previous` are highly skewed to the right according to the table and plots. Therefore, perform log transformations on these columns."
   ]
  },
  {
   "cell_type": "code",
   "execution_count": 7,
   "id": "c0216ea0",
   "metadata": {},
   "outputs": [
    {
     "data": {
      "text/plain": [
       "<AxesSubplot:xlabel='logbalance', ylabel='Count'>"
      ]
     },
     "execution_count": 7,
     "metadata": {},
     "output_type": "execute_result"
    },
    {
     "data": {
      "image/png": "[encoded data removed]",
      "text/plain": [
       "<Figure size 432x288 with 1 Axes>"
      ]
     },
     "metadata": {
      "needs_background": "light"
     },
     "output_type": "display_data"
    }
   ],
   "source": [
    "def reallog(x):\n",
    "    if x < 0: return -log(-x)\n",
    "    elif x == 0: return 0;\n",
    "    else: return log(x)\n",
    "bank[\"logbalance\"] = bank['balance'].apply(reallog)\n",
    "histplot(data = bank, x = \"logbalance\", kde = True)"
   ]
  },
  {
   "cell_type": "markdown",
   "id": "bf691aea",
   "metadata": {},
   "source": [
    "Still highly skewed, perform another square root operation on it."
   ]
  },
  {
   "cell_type": "code",
   "execution_count": 8,
   "id": "b239e14e",
   "metadata": {},
   "outputs": [
    {
     "data": {
      "text/plain": [
       "<AxesSubplot:xlabel='sqrtbalance', ylabel='Count'>"
      ]
     },
     "execution_count": 8,
     "metadata": {},
     "output_type": "execute_result"
    },
    {
     "data": {
      "image/png": "[encoded data removed]",
      "text/plain": [
       "<Figure size 432x288 with 1 Axes>"
      ]
     },
     "metadata": {
      "needs_background": "light"
     },
     "output_type": "display_data"
    }
   ],
   "source": [
    "def realsqrt(x):\n",
    "    if x < 0: return -sqrt(-x)\n",
    "    else: return sqrt(x)\n",
    "bank['sqrtbalance'] = bank['logbalance'].apply(realsqrt)\n",
    "histplot(data = bank, x = \"sqrtbalance\", kde = True)"
   ]
  },
  {
   "cell_type": "markdown",
   "id": "a2e69004",
   "metadata": {},
   "source": [
    "Perform similar log or square root transformations on other columns as well."
   ]
  },
  {
   "cell_type": "code",
   "execution_count": 9,
   "id": "5cc01ccd",
   "metadata": {},
   "outputs": [
    {
     "name": "stdout",
     "output_type": "stream",
     "text": [
      "-0.5173183811595493\n"
     ]
    },
    {
     "data": {
      "text/plain": [
       "<AxesSubplot:xlabel='logduration', ylabel='Count'>"
      ]
     },
     "execution_count": 9,
     "metadata": {},
     "output_type": "execute_result"
    },
    {
     "data": {
      "image/png": "[encoded data removed]",
      "text/plain": [
       "<Figure size 432x288 with 1 Axes>"
      ]
     },
     "metadata": {
      "needs_background": "light"
     },
     "output_type": "display_data"
    }
   ],
   "source": [
    "bank[\"logduration\"] = bank['duration'].apply(reallog)\n",
    "print(bank['logduration'].skew())\n",
    "histplot(data = bank, x = \"logduration\", kde = True)"
   ]
  },
  {
   "cell_type": "code",
   "execution_count": 10,
   "id": "694ba616",
   "metadata": {},
   "outputs": [
    {
     "name": "stdout",
     "output_type": "stream",
     "text": [
      "0.8709254966680438\n"
     ]
    },
    {
     "data": {
      "text/plain": [
       "<AxesSubplot:xlabel='logcampaign', ylabel='Count'>"
      ]
     },
     "execution_count": 10,
     "metadata": {},
     "output_type": "execute_result"
    },
    {
     "data": {
      "image/png": "[encoded data removed]",
      "text/plain": [
       "<Figure size 432x288 with 1 Axes>"
      ]
     },
     "metadata": {
      "needs_background": "light"
     },
     "output_type": "display_data"
    }
   ],
   "source": [
    "bank[\"logcampaign\"] = bank['campaign'].apply(reallog)\n",
    "print(bank['logcampaign'].skew())\n",
    "histplot(data = bank, x = \"logcampaign\", kde = True)"
   ]
  },
  {
   "cell_type": "code",
   "execution_count": 11,
   "id": "bbaeccfe",
   "metadata": {},
   "outputs": [
    {
     "name": "stdout",
     "output_type": "stream",
     "text": [
      "1.731911306961672\n"
     ]
    },
    {
     "data": {
      "text/plain": [
       "<AxesSubplot:xlabel='logpdays', ylabel='Count'>"
      ]
     },
     "execution_count": 11,
     "metadata": {},
     "output_type": "execute_result"
    },
    {
     "data": {
      "image/png": "[encoded data removed]",
      "text/plain": [
       "<Figure size 432x288 with 1 Axes>"
      ]
     },
     "metadata": {
      "needs_background": "light"
     },
     "output_type": "display_data"
    }
   ],
   "source": [
    "bank[\"logpdays\"] = bank['pdays'].apply(reallog)\n",
    "print(bank['logpdays'].skew())\n",
    "histplot(data = bank, x = \"logpdays\", kde = True)"
   ]
  },
  {
   "cell_type": "code",
   "execution_count": 12,
   "id": "806a3ff8",
   "metadata": {},
   "outputs": [
    {
     "name": "stdout",
     "output_type": "stream",
     "text": [
      "3.339249450238068\n"
     ]
    },
    {
     "data": {
      "text/plain": [
       "<AxesSubplot:xlabel='logprevious', ylabel='Count'>"
      ]
     },
     "execution_count": 12,
     "metadata": {},
     "output_type": "execute_result"
    },
    {
     "data": {
      "image/png": "[encoded data removed]",
      "text/plain": [
       "<Figure size 432x288 with 1 Axes>"
      ]
     },
     "metadata": {
      "needs_background": "light"
     },
     "output_type": "display_data"
    }
   ],
   "source": [
    "bank[\"logprevious\"] = bank['previous'].apply(reallog)\n",
    "print(bank['logprevious'].skew())\n",
    "histplot(data = bank, x = \"logprevious\", kde = True)"
   ]
  },
  {
   "cell_type": "markdown",
   "id": "8618125b",
   "metadata": {},
   "source": [
    "As shown on the histograms, apart from bulk values of zero, the other values are not largely skewed."
   ]
  },
  {
   "cell_type": "markdown",
   "id": "f0b267bf",
   "metadata": {},
   "source": [
    "3. One-hot encoding\n",
    "\n",
    "As we can see from the data understanding part, a lot of the columns contain categorical value, which we have to convert to numerical values for model training. Here we apply one-hot encoding to each column."
   ]
  },
  {
   "cell_type": "code",
   "execution_count": 13,
   "id": "10e33c24",
   "metadata": {},
   "outputs": [],
   "source": [
    "bank_one_hot = get_dummies(bank, drop_first = True)"
   ]
  },
  {
   "cell_type": "code",
   "execution_count": 14,
   "id": "d481cb75",
   "metadata": {},
   "outputs": [
    {
     "data": {
      "text/plain": [
       "Index(['age', 'balance', 'day', 'duration', 'campaign', 'pdays', 'previous',\n",
       "       'logbalance', 'sqrtbalance', 'logduration', 'logcampaign', 'logpdays',\n",
       "       'logprevious', 'job_blue-collar', 'job_entrepreneur', 'job_housemaid',\n",
       "       'job_management', 'job_retired', 'job_self-employed', 'job_services',\n",
       "       'job_student', 'job_technician', 'job_unemployed', 'job_unknown',\n",
       "       'marital_married', 'marital_single', 'education_secondary',\n",
       "       'education_tertiary', 'education_unknown', 'default_yes', 'housing_yes',\n",
       "       'loan_yes', 'contact_telephone', 'contact_unknown', 'month_aug',\n",
       "       'month_dec', 'month_feb', 'month_jan', 'month_jul', 'month_jun',\n",
       "       'month_mar', 'month_may', 'month_nov', 'month_oct', 'month_sep',\n",
       "       'poutcome_other', 'poutcome_success', 'poutcome_unknown', 'y_yes'],\n",
       "      dtype='object')"
      ]
     },
     "execution_count": 14,
     "metadata": {},
     "output_type": "execute_result"
    }
   ],
   "source": [
    "bank_one_hot.columns"
   ]
  },
  {
   "cell_type": "code",
   "execution_count": 15,
   "id": "6c221c50",
   "metadata": {},
   "outputs": [],
   "source": [
    "bank_one_hot = get_dummies(bank_one_hot, columns = [\"day\"], drop_first = True)"
   ]
  },
  {
   "cell_type": "code",
   "execution_count": 16,
   "id": "f407e146",
   "metadata": {},
   "outputs": [
    {
     "data": {
      "text/plain": [
       "(4521, 78)"
      ]
     },
     "execution_count": 16,
     "metadata": {},
     "output_type": "execute_result"
    }
   ],
   "source": [
    "bank_one_hot.shape"
   ]
  },
  {
   "cell_type": "markdown",
   "id": "b89e9af3",
   "metadata": {},
   "source": [
    "## Model Selection\n",
    "\n",
    "After one-hot encoding, our dataset now has 78 columns. (Also some of the values are duplicate, like `duration` and `logduration`, so delete them.) Then let's test out some common models.\n",
    "\n",
    "Perform train-test split and cross validation at first."
   ]
  },
  {
   "cell_type": "code",
   "execution_count": 17,
   "id": "f35ec82a",
   "metadata": {},
   "outputs": [],
   "source": [
    "bank_final = bank_one_hot.drop(columns = [\"balance\", \"duration\", \"campaign\", \"pdays\", \"previous\"])\n",
    "bank_final_features = bank_final.drop(columns = [\"y_yes\"])\n",
    "bank_final_outcome = bank_final[\"y_yes\"]\n",
    "#print(bank_final_outcome)"
   ]
  },
  {
   "cell_type": "markdown",
   "id": "06544661",
   "metadata": {},
   "source": [
    "1. Linear regression model."
   ]
  },
  {
   "cell_type": "code",
   "execution_count": 18,
   "id": "2d9a38a4",
   "metadata": {},
   "outputs": [
    {
     "name": "stdout",
     "output_type": "stream",
     "text": [
      "\n",
      "Maximum Accuracy That can be obtained from this model is: 27.853228465860468 %\n",
      "\n",
      "Minimum Accuracy: 14.020831533324852 %\n",
      "\n",
      "Overall Accuracy: 22.22353792964766 %\n",
      "\n",
      "Standard Deviation is: 0.044872215883882474\n"
     ]
    },
    {
     "name": "stderr",
     "output_type": "stream",
     "text": [
      "D:\\Anaconda\\lib\\site-packages\\seaborn\\distributions.py:2557: FutureWarning: `distplot` is a deprecated function and will be removed in a future version. Please adapt your code to use either `displot` (a figure-level function with similar flexibility) or `kdeplot` (an axes-level function for kernel density plots).\n",
      "  warnings.warn(msg, FutureWarning)\n"
     ]
    },
    {
     "data": {
      "text/plain": [
       "Text(0.5, 0, 'Accuracy')"
      ]
     },
     "execution_count": 18,
     "metadata": {},
     "output_type": "execute_result"
    },
    {
     "data": {
      "image/png": "[encoded data removed]",
      "text/plain": [
       "<Figure size 432x288 with 1 Axes>"
      ]
     },
     "metadata": {
      "needs_background": "light"
     },
     "output_type": "display_data"
    }
   ],
   "source": [
    "# Extracted and modified from https://www.geeksforgeeks.org/stratified-k-fold-cross-validation/\n",
    "\n",
    "from statistics import mean, stdev\n",
    "from sklearn import preprocessing\n",
    "from sklearn.model_selection import StratifiedKFold\n",
    "from sklearn import linear_model\n",
    "from sklearn import datasets\n",
    "\n",
    "# Feature Scaling for input features.\n",
    "scaler = preprocessing.MinMaxScaler()\n",
    "x_scaled = scaler.fit_transform(bank_final_features)\n",
    "\n",
    "# Create StratifiedKFold object.\n",
    "skf = StratifiedKFold(n_splits=8, shuffle=True, random_state=99)\n",
    "scores_linear = []\n",
    "\n",
    "reglinear = linear_model.LinearRegression()\n",
    "\n",
    "for train_index, test_index in skf.split(bank_final_features, bank_final_outcome):\n",
    "    x_train_fold, x_test_fold = x_scaled[train_index], x_scaled[test_index]\n",
    "    y_train_fold, y_test_fold = bank_final_outcome[train_index], bank_final_outcome[test_index]\n",
    "    reglinear.fit(x_train_fold, y_train_fold)\n",
    "    scores_linear.append(reglinear.score(x_test_fold, y_test_fold))\n",
    "\n",
    "print('\\nMaximum Accuracy That can be obtained from this model is:', max(scores_linear)*100, '%')\n",
    "print('\\nMinimum Accuracy:', min(scores_linear)*100, '%')\n",
    "print('\\nOverall Accuracy:', mean(scores_linear)*100, '%')\n",
    "print('\\nStandard Deviation is:', stdev(scores_linear))\n",
    "distplot(scores_linear, hist = False)\n",
    "title(\"Linear Regression Accuracy\")\n",
    "xlabel(\"Accuracy\")"
   ]
  },
  {
   "cell_type": "markdown",
   "id": "d552aee2",
   "metadata": {},
   "source": [
    "As shown on the distributional plot, our linear regression model works very bad on both training and test sets, achieving a accuracy of only around 25%.\n",
    "\n",
    "---\n",
    "\n",
    "2. Logistic regression model "
   ]
  },
  {
   "cell_type": "code",
   "execution_count": 19,
   "id": "54942024",
   "metadata": {},
   "outputs": [
    {
     "name": "stdout",
     "output_type": "stream",
     "text": [
      "\n",
      "Maximum Accuracy That can be obtained from this model is: 90.81272084805654 %\n",
      "\n",
      "Minimum Accuracy: 88.84955752212389 %\n",
      "\n",
      "Overall Accuracy: 89.55955470777698 %\n",
      "\n",
      "Standard Deviation is: 0.007120413740049291\n"
     ]
    },
    {
     "name": "stderr",
     "output_type": "stream",
     "text": [
      "D:\\Anaconda\\lib\\site-packages\\seaborn\\distributions.py:2557: FutureWarning: `distplot` is a deprecated function and will be removed in a future version. Please adapt your code to use either `displot` (a figure-level function with similar flexibility) or `kdeplot` (an axes-level function for kernel density plots).\n",
      "  warnings.warn(msg, FutureWarning)\n"
     ]
    },
    {
     "data": {
      "text/plain": [
       "Text(0.5, 0, 'Accuracy')"
      ]
     },
     "execution_count": 19,
     "metadata": {},
     "output_type": "execute_result"
    },
    {
     "data": {
      "image/png": "[encoded data removed]",
      "text/plain": [
       "<Figure size 432x288 with 1 Axes>"
      ]
     },
     "metadata": {
      "needs_background": "light"
     },
     "output_type": "display_data"
    }
   ],
   "source": [
    "reglogistic = linear_model.LogisticRegression()\n",
    "scores_logistic = []\n",
    "\n",
    "for train_index, test_index in skf.split(bank_final_features, bank_final_outcome):\n",
    "    x_train_fold, x_test_fold = x_scaled[train_index], x_scaled[test_index]\n",
    "    y_train_fold, y_test_fold = bank_final_outcome[train_index], bank_final_outcome[test_index]\n",
    "    reglogistic.fit(x_train_fold, y_train_fold)\n",
    "    scores_logistic.append(reglogistic.score(x_test_fold, y_test_fold))\n",
    "\n",
    "print('\\nMaximum Accuracy That can be obtained from this model is:', max(scores_logistic)*100, '%')\n",
    "print('\\nMinimum Accuracy:', min(scores_logistic)*100, '%')\n",
    "print('\\nOverall Accuracy:', mean(scores_logistic)*100, '%')\n",
    "print('\\nStandard Deviation is:', stdev(scores_logistic))\n",
    "distplot(scores_logistic, hist = False)\n",
    "title(\"Logistic Regression Accuracy\")\n",
    "xlabel(\"Accuracy\")"
   ]
  },
  {
   "cell_type": "code",
   "execution_count": 20,
   "id": "279c3ecc",
   "metadata": {},
   "outputs": [
    {
     "name": "stdout",
     "output_type": "stream",
     "text": [
      "WOEEncoder(cols=Index(['age', 'job', 'marital', 'education', 'default', 'balance', 'housing',\n",
      "       'loan', 'contact', 'day', 'month', 'duration', 'campaign', 'pdays',\n",
      "       'previous', 'poutcome'],\n",
      "      dtype='object'))\n"
     ]
    },
    {
     "data": {
      "text/html": [
       "<div>\n",
       "<style scoped>\n",
       "    .dataframe tbody tr th:only-of-type {\n",
       "        vertical-align: middle;\n",
       "    }\n",
       "\n",
       "    .dataframe tbody tr th {\n",
       "        vertical-align: top;\n",
       "    }\n",
       "\n",
       "    .dataframe thead th {\n",
       "        text-align: right;\n",
       "    }\n",
       "</style>\n",
       "<table border=\"1\" class=\"dataframe\">\n",
       "  <thead>\n",
       "    <tr style=\"text-align: right;\">\n",
       "      <th></th>\n",
       "      <th>age</th>\n",
       "      <th>job</th>\n",
       "      <th>marital</th>\n",
       "      <th>education</th>\n",
       "      <th>default</th>\n",
       "      <th>balance</th>\n",
       "      <th>housing</th>\n",
       "      <th>loan</th>\n",
       "      <th>contact</th>\n",
       "      <th>day</th>\n",
       "      <th>...</th>\n",
       "      <th>housing_woe_encoded</th>\n",
       "      <th>loan_woe_encoded</th>\n",
       "      <th>contact_woe_encoded</th>\n",
       "      <th>day_woe_encoded</th>\n",
       "      <th>month_woe_encoded</th>\n",
       "      <th>duration_woe_encoded</th>\n",
       "      <th>campaign_woe_encoded</th>\n",
       "      <th>pdays_woe_encoded</th>\n",
       "      <th>previous_woe_encoded</th>\n",
       "      <th>poutcome_woe_encoded</th>\n",
       "    </tr>\n",
       "  </thead>\n",
       "  <tbody>\n",
       "    <tr>\n",
       "      <th>0</th>\n",
       "      <td>30</td>\n",
       "      <td>unemployed</td>\n",
       "      <td>married</td>\n",
       "      <td>primary</td>\n",
       "      <td>no</td>\n",
       "      <td>1787</td>\n",
       "      <td>no</td>\n",
       "      <td>no</td>\n",
       "      <td>cellular</td>\n",
       "      <td>19</td>\n",
       "      <td>...</td>\n",
       "      <td>0.329618</td>\n",
       "      <td>0.089058</td>\n",
       "      <td>0.251637</td>\n",
       "      <td>-0.357565</td>\n",
       "      <td>1.888365</td>\n",
       "      <td>-0.673082</td>\n",
       "      <td>0.209883</td>\n",
       "      <td>-0.264357</td>\n",
       "      <td>-0.264357</td>\n",
       "      <td>-0.264357</td>\n",
       "    </tr>\n",
       "    <tr>\n",
       "      <th>1</th>\n",
       "      <td>33</td>\n",
       "      <td>services</td>\n",
       "      <td>married</td>\n",
       "      <td>secondary</td>\n",
       "      <td>no</td>\n",
       "      <td>4789</td>\n",
       "      <td>yes</td>\n",
       "      <td>yes</td>\n",
       "      <td>cellular</td>\n",
       "      <td>11</td>\n",
       "      <td>...</td>\n",
       "      <td>-0.324775</td>\n",
       "      <td>-0.656275</td>\n",
       "      <td>0.251637</td>\n",
       "      <td>0.189141</td>\n",
       "      <td>-0.596461</td>\n",
       "      <td>0.020065</td>\n",
       "      <td>0.209883</td>\n",
       "      <td>0.648674</td>\n",
       "      <td>1.304081</td>\n",
       "      <td>0.134728</td>\n",
       "    </tr>\n",
       "    <tr>\n",
       "      <th>2</th>\n",
       "      <td>35</td>\n",
       "      <td>management</td>\n",
       "      <td>single</td>\n",
       "      <td>tertiary</td>\n",
       "      <td>no</td>\n",
       "      <td>1350</td>\n",
       "      <td>yes</td>\n",
       "      <td>no</td>\n",
       "      <td>cellular</td>\n",
       "      <td>16</td>\n",
       "      <td>...</td>\n",
       "      <td>-0.324775</td>\n",
       "      <td>0.089058</td>\n",
       "      <td>0.251637</td>\n",
       "      <td>0.305084</td>\n",
       "      <td>0.605749</td>\n",
       "      <td>0.936356</td>\n",
       "      <td>0.209883</td>\n",
       "      <td>0.243209</td>\n",
       "      <td>0.522380</td>\n",
       "      <td>0.134728</td>\n",
       "    </tr>\n",
       "    <tr>\n",
       "      <th>3</th>\n",
       "      <td>30</td>\n",
       "      <td>management</td>\n",
       "      <td>married</td>\n",
       "      <td>tertiary</td>\n",
       "      <td>no</td>\n",
       "      <td>1476</td>\n",
       "      <td>yes</td>\n",
       "      <td>yes</td>\n",
       "      <td>unknown</td>\n",
       "      <td>3</td>\n",
       "      <td>...</td>\n",
       "      <td>-0.324775</td>\n",
       "      <td>-0.656275</td>\n",
       "      <td>-0.979934</td>\n",
       "      <td>0.056623</td>\n",
       "      <td>-0.107197</td>\n",
       "      <td>0.243209</td>\n",
       "      <td>0.173711</td>\n",
       "      <td>-0.264357</td>\n",
       "      <td>-0.264357</td>\n",
       "      <td>-0.264357</td>\n",
       "    </tr>\n",
       "    <tr>\n",
       "      <th>4</th>\n",
       "      <td>59</td>\n",
       "      <td>blue-collar</td>\n",
       "      <td>married</td>\n",
       "      <td>secondary</td>\n",
       "      <td>no</td>\n",
       "      <td>0</td>\n",
       "      <td>yes</td>\n",
       "      <td>no</td>\n",
       "      <td>unknown</td>\n",
       "      <td>5</td>\n",
       "      <td>...</td>\n",
       "      <td>-0.324775</td>\n",
       "      <td>0.089058</td>\n",
       "      <td>-0.979934</td>\n",
       "      <td>0.365311</td>\n",
       "      <td>-0.596461</td>\n",
       "      <td>0.936356</td>\n",
       "      <td>0.209883</td>\n",
       "      <td>-0.264357</td>\n",
       "      <td>-0.264357</td>\n",
       "      <td>-0.264357</td>\n",
       "    </tr>\n",
       "    <tr>\n",
       "      <th>...</th>\n",
       "      <td>...</td>\n",
       "      <td>...</td>\n",
       "      <td>...</td>\n",
       "      <td>...</td>\n",
       "      <td>...</td>\n",
       "      <td>...</td>\n",
       "      <td>...</td>\n",
       "      <td>...</td>\n",
       "      <td>...</td>\n",
       "      <td>...</td>\n",
       "      <td>...</td>\n",
       "      <td>...</td>\n",
       "      <td>...</td>\n",
       "      <td>...</td>\n",
       "      <td>...</td>\n",
       "      <td>...</td>\n",
       "      <td>...</td>\n",
       "      <td>...</td>\n",
       "      <td>...</td>\n",
       "      <td>...</td>\n",
       "      <td>...</td>\n",
       "    </tr>\n",
       "    <tr>\n",
       "      <th>4516</th>\n",
       "      <td>33</td>\n",
       "      <td>services</td>\n",
       "      <td>married</td>\n",
       "      <td>secondary</td>\n",
       "      <td>no</td>\n",
       "      <td>-333</td>\n",
       "      <td>yes</td>\n",
       "      <td>no</td>\n",
       "      <td>cellular</td>\n",
       "      <td>30</td>\n",
       "      <td>...</td>\n",
       "      <td>-0.324775</td>\n",
       "      <td>0.089058</td>\n",
       "      <td>0.251637</td>\n",
       "      <td>0.411346</td>\n",
       "      <td>-0.308697</td>\n",
       "      <td>0.425530</td>\n",
       "      <td>-0.731351</td>\n",
       "      <td>-0.264357</td>\n",
       "      <td>-0.264357</td>\n",
       "      <td>-0.264357</td>\n",
       "    </tr>\n",
       "    <tr>\n",
       "      <th>4517</th>\n",
       "      <td>57</td>\n",
       "      <td>self-employed</td>\n",
       "      <td>married</td>\n",
       "      <td>tertiary</td>\n",
       "      <td>yes</td>\n",
       "      <td>-3313</td>\n",
       "      <td>yes</td>\n",
       "      <td>yes</td>\n",
       "      <td>unknown</td>\n",
       "      <td>9</td>\n",
       "      <td>...</td>\n",
       "      <td>-0.324775</td>\n",
       "      <td>-0.656275</td>\n",
       "      <td>-0.979934</td>\n",
       "      <td>-0.129031</td>\n",
       "      <td>-0.596461</td>\n",
       "      <td>-0.529981</td>\n",
       "      <td>0.209883</td>\n",
       "      <td>-0.264357</td>\n",
       "      <td>-0.264357</td>\n",
       "      <td>-0.264357</td>\n",
       "    </tr>\n",
       "    <tr>\n",
       "      <th>4518</th>\n",
       "      <td>57</td>\n",
       "      <td>technician</td>\n",
       "      <td>married</td>\n",
       "      <td>secondary</td>\n",
       "      <td>no</td>\n",
       "      <td>295</td>\n",
       "      <td>no</td>\n",
       "      <td>no</td>\n",
       "      <td>cellular</td>\n",
       "      <td>19</td>\n",
       "      <td>...</td>\n",
       "      <td>0.329618</td>\n",
       "      <td>0.089058</td>\n",
       "      <td>0.251637</td>\n",
       "      <td>-0.357565</td>\n",
       "      <td>0.098027</td>\n",
       "      <td>-0.960764</td>\n",
       "      <td>-1.100526</td>\n",
       "      <td>-0.264357</td>\n",
       "      <td>-0.264357</td>\n",
       "      <td>-0.264357</td>\n",
       "    </tr>\n",
       "    <tr>\n",
       "      <th>4519</th>\n",
       "      <td>28</td>\n",
       "      <td>blue-collar</td>\n",
       "      <td>married</td>\n",
       "      <td>secondary</td>\n",
       "      <td>no</td>\n",
       "      <td>1137</td>\n",
       "      <td>no</td>\n",
       "      <td>no</td>\n",
       "      <td>cellular</td>\n",
       "      <td>6</td>\n",
       "      <td>...</td>\n",
       "      <td>0.329618</td>\n",
       "      <td>0.089058</td>\n",
       "      <td>0.251637</td>\n",
       "      <td>-0.416037</td>\n",
       "      <td>0.478174</td>\n",
       "      <td>0.020065</td>\n",
       "      <td>0.173711</td>\n",
       "      <td>0.936356</td>\n",
       "      <td>0.648674</td>\n",
       "      <td>0.623356</td>\n",
       "    </tr>\n",
       "    <tr>\n",
       "      <th>4520</th>\n",
       "      <td>44</td>\n",
       "      <td>entrepreneur</td>\n",
       "      <td>single</td>\n",
       "      <td>tertiary</td>\n",
       "      <td>no</td>\n",
       "      <td>1136</td>\n",
       "      <td>yes</td>\n",
       "      <td>yes</td>\n",
       "      <td>cellular</td>\n",
       "      <td>3</td>\n",
       "      <td>...</td>\n",
       "      <td>-0.324775</td>\n",
       "      <td>-0.656275</td>\n",
       "      <td>0.251637</td>\n",
       "      <td>0.056623</td>\n",
       "      <td>0.605749</td>\n",
       "      <td>1.118677</td>\n",
       "      <td>-0.057873</td>\n",
       "      <td>0.648674</td>\n",
       "      <td>0.425530</td>\n",
       "      <td>0.623356</td>\n",
       "    </tr>\n",
       "  </tbody>\n",
       "</table>\n",
       "<p>4521 rows × 32 columns</p>\n",
       "</div>"
      ],
      "text/plain": [
       "      age            job  marital  education default  balance housing loan  \\\n",
       "0      30     unemployed  married    primary      no     1787      no   no   \n",
       "1      33       services  married  secondary      no     4789     yes  yes   \n",
       "2      35     management   single   tertiary      no     1350     yes   no   \n",
       "3      30     management  married   tertiary      no     1476     yes  yes   \n",
       "4      59    blue-collar  married  secondary      no        0     yes   no   \n",
       "...   ...            ...      ...        ...     ...      ...     ...  ...   \n",
       "4516   33       services  married  secondary      no     -333     yes   no   \n",
       "4517   57  self-employed  married   tertiary     yes    -3313     yes  yes   \n",
       "4518   57     technician  married  secondary      no      295      no   no   \n",
       "4519   28    blue-collar  married  secondary      no     1137      no   no   \n",
       "4520   44   entrepreneur   single   tertiary      no     1136     yes  yes   \n",
       "\n",
       "       contact  day  ... housing_woe_encoded  loan_woe_encoded  \\\n",
       "0     cellular   19  ...            0.329618          0.089058   \n",
       "1     cellular   11  ...           -0.324775         -0.656275   \n",
       "2     cellular   16  ...           -0.324775          0.089058   \n",
       "3      unknown    3  ...           -0.324775         -0.656275   \n",
       "4      unknown    5  ...           -0.324775          0.089058   \n",
       "...        ...  ...  ...                 ...               ...   \n",
       "4516  cellular   30  ...           -0.324775          0.089058   \n",
       "4517   unknown    9  ...           -0.324775         -0.656275   \n",
       "4518  cellular   19  ...            0.329618          0.089058   \n",
       "4519  cellular    6  ...            0.329618          0.089058   \n",
       "4520  cellular    3  ...           -0.324775         -0.656275   \n",
       "\n",
       "      contact_woe_encoded  day_woe_encoded  month_woe_encoded  \\\n",
       "0                0.251637        -0.357565           1.888365   \n",
       "1                0.251637         0.189141          -0.596461   \n",
       "2                0.251637         0.305084           0.605749   \n",
       "3               -0.979934         0.056623          -0.107197   \n",
       "4               -0.979934         0.365311          -0.596461   \n",
       "...                   ...              ...                ...   \n",
       "4516             0.251637         0.411346          -0.308697   \n",
       "4517            -0.979934        -0.129031          -0.596461   \n",
       "4518             0.251637        -0.357565           0.098027   \n",
       "4519             0.251637        -0.416037           0.478174   \n",
       "4520             0.251637         0.056623           0.605749   \n",
       "\n",
       "     duration_woe_encoded  campaign_woe_encoded  pdays_woe_encoded  \\\n",
       "0               -0.673082              0.209883          -0.264357   \n",
       "1                0.020065              0.209883           0.648674   \n",
       "2                0.936356              0.209883           0.243209   \n",
       "3                0.243209              0.173711          -0.264357   \n",
       "4                0.936356              0.209883          -0.264357   \n",
       "...                   ...                   ...                ...   \n",
       "4516             0.425530             -0.731351          -0.264357   \n",
       "4517            -0.529981              0.209883          -0.264357   \n",
       "4518            -0.960764             -1.100526          -0.264357   \n",
       "4519             0.020065              0.173711           0.936356   \n",
       "4520             1.118677             -0.057873           0.648674   \n",
       "\n",
       "      previous_woe_encoded  poutcome_woe_encoded  \n",
       "0                -0.264357             -0.264357  \n",
       "1                 1.304081              0.134728  \n",
       "2                 0.522380              0.134728  \n",
       "3                -0.264357             -0.264357  \n",
       "4                -0.264357             -0.264357  \n",
       "...                    ...                   ...  \n",
       "4516             -0.264357             -0.264357  \n",
       "4517             -0.264357             -0.264357  \n",
       "4518             -0.264357             -0.264357  \n",
       "4519              0.648674              0.623356  \n",
       "4520              0.425530              0.623356  \n",
       "\n",
       "[4521 rows x 32 columns]"
      ]
     },
     "metadata": {},
     "output_type": "display_data"
    },
    {
     "name": "stdout",
     "output_type": "stream",
     "text": [
      "Index(['age', 'job', 'marital', 'education', 'default', 'balance', 'housing',\n",
      "       'loan', 'contact', 'day', 'month', 'duration', 'campaign', 'pdays',\n",
      "       'previous', 'poutcome', 'age_woe_encoded', 'job_woe_encoded',\n",
      "       'marital_woe_encoded', 'education_woe_encoded', 'default_woe_encoded',\n",
      "       'balance_woe_encoded', 'housing_woe_encoded', 'loan_woe_encoded',\n",
      "       'contact_woe_encoded', 'day_woe_encoded', 'month_woe_encoded',\n",
      "       'duration_woe_encoded', 'campaign_woe_encoded', 'pdays_woe_encoded',\n",
      "       'previous_woe_encoded', 'poutcome_woe_encoded'],\n",
      "      dtype='object')\n"
     ]
    },
    {
     "data": {
      "text/plain": [
       "\"columns = [col for col in train_features.columns if col != 'id']\\nwoe_encoder = ce.WOEEncoder(cols=columns)\\nwoe_encoded_train = woe_encoder.fit_transform(train_features[columns], train_targets).add_suffix('_woe')\\ntrain_features = train_features.join(woe_encoded_train)\\nwoe_encoded_cols = woe_encoded_train.columns\""
      ]
     },
     "execution_count": 20,
     "metadata": {},
     "output_type": "execute_result"
    }
   ],
   "source": [
    "# Try WOE encoder for logistic regression\n",
    "# Extracted and modified from https://www.kaggle.com/code/davidbnn92/weight-of-evidence-encoding/notebook\n",
    "\n",
    "from category_encoders import *\n",
    "\n",
    "bank_raw = read_csv(\"bank.csv\", delimiter = \";\")\n",
    "bank_features = bank_raw.drop(columns = [\"y\"])\n",
    "col = bank_features.columns\n",
    "bank_target = bank_raw[\"y\"].map(dict(yes=1, no=0))\n",
    "woe_encoder = WOEEncoder(cols = col)\n",
    "print(woe_encoder)\n",
    "woe_training_features = woe_encoder.fit_transform(bank_features, bank_target).add_suffix(\"_woe_encoded\")\n",
    "bank_features = bank_features.join(woe_training_features)\n",
    "display(bank_features)\n",
    "print(bank_features.columns)\n",
    "\n",
    "'''columns = [col for col in train_features.columns if col != 'id']\n",
    "woe_encoder = ce.WOEEncoder(cols=columns)\n",
    "woe_encoded_train = woe_encoder.fit_transform(train_features[columns], train_targets).add_suffix('_woe')\n",
    "train_features = train_features.join(woe_encoded_train)\n",
    "woe_encoded_cols = woe_encoded_train.columns'''"
   ]
  },
  {
   "cell_type": "code",
   "execution_count": 24,
   "id": "a135a0e5",
   "metadata": {},
   "outputs": [
    {
     "name": "stdout",
     "output_type": "stream",
     "text": [
      "Using Weight of Evidence Encoder\n",
      "Mean accuracy score: 91.042%\n",
      "\n",
      "Using Target Encoder\n"
     ]
    },
    {
     "name": "stderr",
     "output_type": "stream",
     "text": [
      "D:\\Anaconda\\lib\\site-packages\\category_encoders\\target_encoder.py:92: FutureWarning: Default parameter min_samples_leaf will change in version 2.6.See https://github.com/scikit-learn-contrib/category_encoders/issues/327\n",
      "  warnings.warn(\"Default parameter min_samples_leaf will change in version 2.6.\"\n"
     ]
    },
    {
     "name": "stdout",
     "output_type": "stream",
     "text": [
      "Mean accuracy score: 88.675%\n",
      "\n",
      "Using CatBoost Encoder\n",
      "Mean accuracy score: 92.479%\n",
      "   Type of Encoder  accuracy\n",
      "0              WOE  0.906360\n",
      "1              WOE  0.916814\n",
      "2              WOE  0.900885\n",
      "3              WOE  0.916814\n",
      "4              WOE  0.916814\n",
      "5              WOE  0.902655\n",
      "6              WOE  0.906195\n",
      "7              WOE  0.916814\n",
      "8           Target  0.871025\n",
      "9           Target  0.892035\n",
      "10          Target  0.877876\n",
      "11          Target  0.890265\n",
      "12          Target  0.892035\n",
      "13          Target  0.883186\n",
      "14          Target  0.888496\n",
      "15          Target  0.899115\n",
      "16        CatBoost  0.931095\n",
      "17        CatBoost  0.927434\n",
      "18        CatBoost  0.922124\n",
      "19        CatBoost  0.938053\n",
      "20        CatBoost  0.920354\n",
      "21        CatBoost  0.918584\n",
      "22        CatBoost  0.922124\n",
      "23        CatBoost  0.918584\n"
     ]
    },
    {
     "data": {
      "text/plain": [
       "Text(0.5, 6.79999999999999, 'Accuracy')"
      ]
     },
     "execution_count": 24,
     "metadata": {},
     "output_type": "execute_result"
    },
    {
     "data": {
      "image/png": "[encoded data removed]",
      "text/plain": [
       "<Figure size 447.375x360 with 1 Axes>"
      ]
     },
     "metadata": {
      "needs_background": "light"
     },
     "output_type": "display_data"
    }
   ],
   "source": [
    "from sklearn.metrics import confusion_matrix, classification_report, roc_auc_score, roc_curve\n",
    "\n",
    "def logreg_test(cols, encoder):\n",
    "    #auc_scores = []\n",
    "    acc_scores = []\n",
    "    \n",
    "    skf = StratifiedKFold(n_splits=8, shuffle=True, random_state = 99).split(bank_features, bank_target)\n",
    "    for train_id, valid_id in skf:\n",
    "        enc_tr = encoder.fit_transform(bank_features.iloc[train_id,:], bank_target.iloc[train_id])\n",
    "        enc_val = encoder.transform(bank_features.iloc[valid_id,:])\n",
    "        regressor = linear_model.LogisticRegression(solver='lbfgs', max_iter=1000)\n",
    "        regressor.fit(enc_tr, bank_target.iloc[train_id])\n",
    "        acc_scores.append(regressor.score(enc_val, bank_target.iloc[valid_id]))\n",
    "        probabilities = [pair[1] for pair in regressor.predict_proba(enc_val)]\n",
    "        #auc_scores.append(roc_auc_score(bank_target.iloc[valid_id], probabilities))\n",
    "        \n",
    "    acc_scores = Series(acc_scores, name = \"accuracy\")\n",
    "    mean_acc = acc_scores.mean() * 100\n",
    "    print(\"Mean accuracy score: {:.3f}%\".format(mean_acc))\n",
    "    return acc_scores\n",
    "    \n",
    "    #auc_scores = Series(auc_scores)\n",
    "    #mean_auc = auc_scores.mean() * 100\n",
    "    #print(\"Mean AUC score: {:.3f}%\".format(mean_auc))\n",
    "\n",
    "##########################################\n",
    "print(\"Using Weight of Evidence Encoder\")\n",
    "woe_encoder = WOEEncoder(cols=col)\n",
    "acc_woe = logreg_test(col, woe_encoder)\n",
    "\n",
    "##########################################\n",
    "print(\"\\nUsing Target Encoder\")\n",
    "targ_encoder = TargetEncoder(cols=col, smoothing=0.2)\n",
    "acc_targ = logreg_test(col, targ_encoder)\n",
    "\n",
    "##########################################\n",
    "print(\"\\nUsing CatBoost Encoder\")\n",
    "cb_encoder = CatBoostEncoder(cols=col)\n",
    "acc_cb = logreg_test(col, cb_encoder)\n",
    "\n",
    "acc_woe.index = [\"WOE\" for i in range(acc_woe.size)]\n",
    "acc_targ.index = [\"Target\" for i in range(acc_targ.size)]\n",
    "acc_cb.index = [\"CatBoost\" for i in range(acc_cb.size)]\n",
    "df = concat([acc_woe, acc_targ, acc_cb], axis = 0).reset_index()\n",
    "df.rename({\"index\": \"Type of Encoder\"}, axis = 1, inplace = True)\n",
    "displot(data = df, x = \"accuracy\", hue = 'Type of Encoder', kind = \"kde\")\n",
    "title(\"Logistic Regression Accuracy for Different Encoders\")\n",
    "xlabel(\"Accuracy\")"
   ]
  },
  {
   "cell_type": "code",
   "execution_count": null,
   "id": "7e62080a",
   "metadata": {},
   "outputs": [],
   "source": []
  }
 ],
 "metadata": {
  "kernelspec": {
   "display_name": "Python 3",
   "language": "python",
   "name": "python3"
  },
  "language_info": {
   "codemirror_mode": {
    "name": "ipython",
    "version": 3
   },
   "file_extension": ".py",
   "mimetype": "text/x-python",
   "name": "python",
   "nbconvert_exporter": "python",
   "pygments_lexer": "ipython3",
   "version": "3.8.8"
  }
 },
 "nbformat": 4,
 "nbformat_minor": 5
}
